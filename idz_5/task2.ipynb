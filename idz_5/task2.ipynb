{
 "cells": [
  {
   "attachments": {},
   "cell_type": "markdown",
   "metadata": {},
   "source": [
    "### 2. В результате эксперимента получены данные приведенные в таблице 2"
   ]
  },
  {
   "cell_type": "code",
   "execution_count": 805,
   "metadata": {},
   "outputs": [],
   "source": [
    "from matplotlib import pyplot as plt\n",
    "import numpy as np\n",
    "\n",
    "alpha_2 = 0.02\n",
    "c = 0.00\n",
    "d = 1.80\n",
    "lambda_0 = 0.33\n",
    "lambda_1 = 1.00\n",
    "h = 0.4\n",
    "array = [1.040, 0.802, 0.515, 0.432, 1.052, 0.130, 3.558, 1.081, 2.003, 0.250,\n",
    "         0.135, 0.406, 1.316, 0.128, 1.470, 2.091, 0.007, 4.259, 2.364, 0.529,\n",
    "         0.062, 1.139, 0.218, 0.304, 1.942, 0.009, 1.480, 1.867, 0.636, 0.839,\n",
    "         0.021, 0.469, 1.147, 0.070, 1.476, 1.065, 0.009, 1.532, 0.128, 3.844,\n",
    "         0.266, 0.744, 1.690, 2.125, 0.310, 0.288, 2.565, 0.334, 2.520, 0.272]"
   ]
  },
  {
   "attachments": {},
   "cell_type": "markdown",
   "metadata": {},
   "source": [
    "#### a) Построить вариационный ряд. эмпирическую функцию распределения и гистограмму частот."
   ]
  },
  {
   "attachments": {},
   "cell_type": "markdown",
   "metadata": {},
   "source": [
    "Вариационный ряд"
   ]
  },
  {
   "cell_type": "code",
   "execution_count": 806,
   "metadata": {},
   "outputs": [
    {
     "name": "stdout",
     "output_type": "stream",
     "text": [
      "0.007, 0.009, 0.009, 0.021, 0.062, 0.07, 0.128, 0.128, 0.13, 0.135, 0.218, 0.25, 0.266, 0.272, 0.288, 0.304, 0.31, 0.334, 0.406, 0.432, 0.469, 0.515, 0.529, 0.636, 0.744, 0.802, 0.839, 1.04, 1.052, 1.065, 1.081, 1.139, 1.147, 1.316, 1.47, 1.476, 1.48, 1.532, 1.69, 1.867, 1.942, 2.003, 2.091, 2.125, 2.364, 2.52, 2.565, 3.558, 3.844, 4.259\n"
     ]
    }
   ],
   "source": [
    "array.sort()\n",
    "print(*array, sep=\", \")"
   ]
  },
  {
   "attachments": {},
   "cell_type": "markdown",
   "metadata": {},
   "source": [
    "Эмпирическая функция"
   ]
  },
  {
   "cell_type": "code",
   "execution_count": 807,
   "metadata": {},
   "outputs": [
    {
     "name": "stdout",
     "output_type": "stream",
     "text": [
      "       | 0, x in (-inf, 0.007]\n",
      "       | 0.02, x in (0.007, 0.009]\n",
      "       | 0.06, x in (0.009, 0.021]\n",
      "       | 0.08, x in (0.021, 0.062]\n",
      "       | 0.1, x in (0.062, 0.07]\n",
      "       | 0.12, x in (0.07, 0.128]\n",
      "       | 0.16, x in (0.128, 0.13]\n",
      "       | 0.18, x in (0.13, 0.135]\n",
      "       | 0.2, x in (0.135, 0.218]\n",
      "       | 0.22, x in (0.218, 0.25]\n",
      "       | 0.24, x in (0.25, 0.266]\n",
      "       | 0.26, x in (0.266, 0.272]\n",
      "       | 0.28, x in (0.272, 0.288]\n",
      "       | 0.3, x in (0.288, 0.304]\n",
      "       | 0.32, x in (0.304, 0.31]\n",
      "       | 0.34, x in (0.31, 0.334]\n",
      "       | 0.36, x in (0.334, 0.406]\n",
      "       | 0.38, x in (0.406, 0.432]\n",
      "       | 0.4, x in (0.432, 0.469]\n",
      "       | 0.42, x in (0.469, 0.515]\n",
      "       | 0.44, x in (0.515, 0.529]\n",
      "       | 0.46, x in (0.529, 0.636]\n",
      "       | 0.48, x in (0.636, 0.744]\n",
      "       | 0.5, x in (0.744, 0.802]\n",
      "       | 0.52, x in (0.802, 0.839]\n",
      "       | 0.54, x in (0.839, 1.04]\n",
      "F(x) = | 0.56, x in (1.04, 1.052]\n",
      "       | 0.58, x in (1.052, 1.065]\n",
      "       | 0.6, x in (1.065, 1.081]\n",
      "       | 0.62, x in (1.081, 1.139]\n",
      "       | 0.64, x in (1.139, 1.147]\n",
      "       | 0.66, x in (1.147, 1.316]\n",
      "       | 0.68, x in (1.316, 1.47]\n",
      "       | 0.7, x in (1.47, 1.476]\n",
      "       | 0.72, x in (1.476, 1.48]\n",
      "       | 0.74, x in (1.48, 1.532]\n",
      "       | 0.76, x in (1.532, 1.69]\n",
      "       | 0.78, x in (1.69, 1.867]\n",
      "       | 0.8, x in (1.867, 1.942]\n",
      "       | 0.82, x in (1.942, 2.003]\n",
      "       | 0.84, x in (2.003, 2.091]\n",
      "       | 0.86, x in (2.091, 2.125]\n",
      "       | 0.88, x in (2.125, 2.364]\n",
      "       | 0.9, x in (2.364, 2.52]\n",
      "       | 0.92, x in (2.52, 2.565]\n",
      "       | 0.94, x in (2.565, 3.558]\n",
      "       | 0.96, x in (3.558, 3.844]\n",
      "       | 0.98, x in (3.844, 4.259]\n",
      "       | 1, x in (4.259, inf)\n"
     ]
    }
   ],
   "source": [
    "dic = {}\n",
    "f = []\n",
    "for i in array:\n",
    "    if i not in dic.keys():\n",
    "        dic[i] = 1\n",
    "        f.append(i)\n",
    "    else:\n",
    "        dic[i] += 1\n",
    "\n",
    "cur = 0\n",
    "print(7*\" \" + f\"| {cur}, x in (-inf, {f[0]}]\")\n",
    "for i in range(len(f)-1):\n",
    "    if i == 25:\n",
    "        print(\"F(x) = \", end=\"\")\n",
    "    else:\n",
    "        print(7*\" \", end=\"\")\n",
    "    cur += dic[f[i]]/len(array)\n",
    "    print(f\"| {round(cur, 2)}, x in ({f[i]}, {f[i+1]}]\")\n",
    "print(7*\" \" + f\"| 1, x in ({f[len(f)-1]}, inf)\")"
   ]
  },
  {
   "attachments": {},
   "cell_type": "markdown",
   "metadata": {},
   "source": [
    "Гистрограмма частот\n",
    "h = 0.4, n = 50"
   ]
  },
  {
   "cell_type": "code",
   "execution_count": 808,
   "metadata": {},
   "outputs": [
    {
     "name": "stdout",
     "output_type": "stream",
     "text": [
      "H([0, 0.4)) = 0.9\n",
      "H([0.4, 0.8)) = 0.35\n",
      "H([0.8, 1.2)) = 0.4\n",
      "H([1.2, 1.6)) = 0.25\n",
      "H([1.6, 2.0)) = 0.15\n",
      "H([2.0, 2.4)) = 0.2\n",
      "H([2.4, 2.8)) = 0.1\n",
      "H([2.8, 3.2)) = 0.0\n",
      "H([3.2, 3.6)) = 0.05\n",
      "H([3.6, 4.0)) = 0.05\n"
     ]
    }
   ],
   "source": [
    "cur = 0\n",
    "for i in range(10):\n",
    "    print(f\"H([{round(cur, 1)}, {round(cur + h, 1)})) = {len([i for i in array if cur <= i <= cur + h])/(h*len(array))}\")\n",
    "    cur += h"
   ]
  },
  {
   "cell_type": "code",
   "execution_count": 809,
   "metadata": {},
   "outputs": [
    {
     "data": {
      "image/png": "[encoded data removed]",
      "text/plain": [
       "<Figure size 640x480 with 1 Axes>"
      ]
     },
     "metadata": {},
     "output_type": "display_data"
    }
   ],
   "source": [
    "xdata = [i * h + h/2 for i in range(10)]\n",
    "ydata = [0.9, 0.35, 0.4, 0.25, 0.15, 0.2, 0.1, 0, 0.05, 0.05]\n",
    "\n",
    "plt.bar(xdata, ydata, width=h, edgecolor='k')\n",
    "plt.show()"
   ]
  },
  {
   "attachments": {},
   "cell_type": "markdown",
   "metadata": {},
   "source": [
    "#### b) Вычислить выборочные аналоги следующих числовых характер истик: (i) математического ожидания, (ii) дисперсии, (iii) медианы, (iv) асимметрии, (v) эксцесса, (vi) вероятности Pr($X \\in [a, b]$)."
   ]
  },
  {
   "attachments": {},
   "cell_type": "markdown",
   "metadata": {},
   "source": [
    "Вычислим выборочный аналог мат. ожидания"
   ]
  },
  {
   "cell_type": "code",
   "execution_count": 810,
   "metadata": {},
   "outputs": [
    {
     "name": "stdout",
     "output_type": "stream",
     "text": [
      "average = 1.0588\n"
     ]
    }
   ],
   "source": [
    "sum = 0\n",
    "\n",
    "for i in array:\n",
    "    sum += i\n",
    "\n",
    "average_x = sum/len(array)\n",
    "print(\"average =\", round(average_x, 4))"
   ]
  },
  {
   "attachments": {},
   "cell_type": "markdown",
   "metadata": {},
   "source": [
    "$\\bar x = \\frac{1}{n} \\sum_{i=1}^{n}(x_i)=1.0588$"
   ]
  },
  {
   "attachments": {},
   "cell_type": "markdown",
   "metadata": {},
   "source": [
    "Вычислим выборочный аналог дисперисии"
   ]
  },
  {
   "cell_type": "code",
   "execution_count": 811,
   "metadata": {},
   "outputs": [
    {
     "name": "stdout",
     "output_type": "stream",
     "text": [
      "S^2 = 1.0581\n"
     ]
    }
   ],
   "source": [
    "sum = 0\n",
    "\n",
    "for i in array:\n",
    "    sum += (i - average_x)**2\n",
    "\n",
    "dispersion = sum/len(array)\n",
    "\n",
    "print(\"S^2 =\", round(dispersion, 4))"
   ]
  },
  {
   "attachments": {},
   "cell_type": "markdown",
   "metadata": {},
   "source": [
    "$S^2 = \\frac{1}{n} \\sum_{i=1}^{n}( (x_i - \\bar x)^2 )=1.0581$"
   ]
  },
  {
   "attachments": {},
   "cell_type": "markdown",
   "metadata": {},
   "source": [
    "Вычислим медиану\n",
    "\n",
    "так как размер выборки четный, то медианой будет среднее значение двух центральных элементов в отсортированном ряде\n",
    "\n",
    "$M_x = \\cfrac{0.744 + 0.802}{2} = 0.773$"
   ]
  },
  {
   "cell_type": "code",
   "execution_count": 812,
   "metadata": {},
   "outputs": [
    {
     "name": "stdout",
     "output_type": "stream",
     "text": [
      "0.773\n"
     ]
    }
   ],
   "source": [
    "print((array[24]+array[25])/2)"
   ]
  },
  {
   "attachments": {},
   "cell_type": "markdown",
   "metadata": {},
   "source": [
    "Коэффициент асимметрии\n",
    "\n",
    "$\\Alpha = \\frac{\\mu_3}{(S^2)^3}\\\\\n",
    "\\mu = \\frac{1}{n} \\sum_{i=1}^{n}( (x_i - \\bar x)^3 )\n",
    "$\n"
   ]
  },
  {
   "cell_type": "code",
   "execution_count": 813,
   "metadata": {},
   "outputs": [],
   "source": [
    "def make_mu(t):\n",
    "    mu = 0\n",
    "\n",
    "    for i in array:\n",
    "        mu += (i - average_x)**t\n",
    "\n",
    "    mu /= len(array)\n",
    "\n",
    "    return mu"
   ]
  },
  {
   "cell_type": "code",
   "execution_count": 814,
   "metadata": {},
   "outputs": [
    {
     "name": "stdout",
     "output_type": "stream",
     "text": [
      "A = 1.2677\n"
     ]
    }
   ],
   "source": [
    "A = make_mu(3)/(dispersion**(3/2))\n",
    "\n",
    "print(\"A =\", round(A, 4))"
   ]
  },
  {
   "attachments": {},
   "cell_type": "markdown",
   "metadata": {},
   "source": [
    "Коэффициент эксцесса\n",
    "$\n",
    "\\varepsilon = \\frac{\\mu_4}{(S)^4} - 3\\\\\n",
    "$"
   ]
  },
  {
   "cell_type": "code",
   "execution_count": 815,
   "metadata": {},
   "outputs": [
    {
     "name": "stdout",
     "output_type": "stream",
     "text": [
      "Eps = 1.1913\n"
     ]
    }
   ],
   "source": [
    "eps = make_mu(4)/(dispersion**(4/2)) - 3\n",
    "\n",
    "print(\"Eps =\", round(eps, 4))"
   ]
  },
  {
   "attachments": {},
   "cell_type": "markdown",
   "metadata": {},
   "source": [
    "Найдем вероятность $Pr(x \\in [a, b])$\n",
    "\n",
    "$Pr(x \\in [0, 1.8])=F(1.8)-F(0)=\\frac{39}{50}=0.78$\n"
   ]
  },
  {
   "cell_type": "code",
   "execution_count": 816,
   "metadata": {},
   "outputs": [
    {
     "name": "stdout",
     "output_type": "stream",
     "text": [
      "0.78\n"
     ]
    }
   ],
   "source": [
    "print(len([i for i in array if i < 1.8])/len(array))"
   ]
  },
  {
   "attachments": {},
   "cell_type": "markdown",
   "metadata": {},
   "source": [
    "#### c) В предположении, что исходные наблюдения являются выборкой из показательного распределения, построить оценку максимального правдоподобия параметра $\\lambda$, а также оценку $\\lambda$ по методу моментов.\n",
    "\n",
    "Функция максимального правдоподобия\n",
    "$L(\\vec{x}, \\theta)=\\prod_{i=1}^{n}f(x_i, \\theta)$\n",
    "\n",
    "Так как функция показаетльного распределения а.н. случайной величины , то $f(x_i, \\theta) = p_\\lambda(x_i) = f(x_i, \\lambda) = \\lambda\\cdot e^{-\\lambda x_i}$\n",
    "\n",
    "$L(\\vec{x}, \\lambda)=\\prod_{i=1}^{n}\\lambda\\cdot e^{-\\lambda x_i}$\n",
    "\n",
    "Прологарифмируем функцию\n",
    "\n",
    "$LL(\\vec{x}, \\lambda)=\\sum_{i=1}^{n}\\ln(\\frac{\\lambda^{x_i}}{x_i !}e^{-\\lambda})= n \\cdot \\ln(\\lambda) - \\lambda \\cdot \\sum_{i=1}^n x_i$\n",
    "\n",
    "Найдем точку масимума \n",
    "\n",
    "$\\frac{dLL}{d\\lambda} = \\cfrac{n}{\\lambda} - \\sum_{i=1}^n x_i\\\\\n",
    "\\cfrac{d^2LL}{d\\lambda^2}=-n\\cdot\\lambda^{-2} < 0 \\Rightarrow \\widehat \\lambda= \\frac{1}{\\bar x} = 0.9445$\n",
    "\n",
    "Найдем оценку $\\lambda$ по методу моменту моментов\n",
    "\n",
    "$Ex_1 = \\int_0^{+\\infty}x \\cdot \\lambda\\cdot e^{-\\lambda x_i} = \\frac{1}{\\lambda} = \\bar x\\\\\n",
    "\\widehat{\\lambda} = \\frac{1}{\\bar x} = 0.9445$"
   ]
  },
  {
   "cell_type": "code",
   "execution_count": 817,
   "metadata": {},
   "outputs": [
    {
     "name": "stdout",
     "output_type": "stream",
     "text": [
      "0.9445\n"
     ]
    }
   ],
   "source": [
    "print(round(1/average_x, 4))"
   ]
  },
  {
   "attachments": {},
   "cell_type": "markdown",
   "metadata": {},
   "source": [
    "#### d) Построить асимптотический доверительный интервал уровня значимости $\\alpha_2$ для параметра $\\lambda$ на базе оценки максимального правдоподобия.\n",
    "\n",
    "Найдем функцию $G(x, \\lambda)$ - генератор доверительного интервала.\n",
    "\n",
    "$\\sqrt{n} \\cdot \\frac{\\bar x - \\frac{1}{\\lambda}}{\\sqrt{S^2}} \\sim N(0, 1)$\n",
    "\n",
    "$P_\\theta(x_{1\\alpha_2} \\le \\sqrt{n} \\cdot \\frac{\\bar x - \\frac{1}{\\lambda}}{\\sqrt{S^2}} \\le x_{2\\alpha_2}) \\rightarrow 1 - \\alpha_2$\n",
    "\n",
    "Найдем $x_{1\\alpha_2}$ и $x_{2\\alpha_2}$\n",
    "\n",
    "$\\Phi(x_{\\alpha_2}) = 1-\\cfrac{\\alpha_2}{2} = 1-\\cfrac{0.02}{2} = 0.99$, по таблице значений функции Лапласаа $x_{\\alpha_2}=2.58 \\Rightarrow$\n",
    "\n",
    "$P_\\theta(-2.58 \\le \\sqrt{n} \\cdot \\frac{\\bar x - \\frac{1}{\\lambda}}{\\sqrt{S^2}} \\le 2.58)$, тогда получим интервал\n",
    "\n",
    "$-\\frac{1}{\\lambda} \\in [-2,58\\frac{\\sqrt{S^2}}{\\sqrt{n}}-\\bar x; \\; 2,58\\frac{\\sqrt{S^2}}{\\sqrt{n}}-\\bar x]$\n",
    "\n",
    "$\\frac{1}{\\lambda} \\in [\\bar x-2,58\\frac{\\sqrt{S^2}}{\\sqrt{n}}; \\; \\bar x + 2,58\\frac{\\sqrt{S^2}}{\\sqrt{n}}]$\n",
    "\n",
    "$\\lambda \\in [(1.0588 + 2,58\\frac{\\sqrt{1.0581}}{\\sqrt{50}})^{-1}; \\; (1.0588 - 2,58\\frac{\\sqrt{1.0581}}{\\sqrt{50}})^{-1}]$\n",
    "\n",
    "$[0.6973; \\; 1.4631]$\n"
   ]
  }
 ],
 "metadata": {
  "kernelspec": {
   "display_name": "Python 3",
   "language": "python",
   "name": "python3"
  },
  "language_info": {
   "codemirror_mode": {
    "name": "ipython",
    "version": 3
   },
   "file_extension": ".py",
   "mimetype": "text/x-python",
   "name": "python",
   "nbconvert_exporter": "python",
   "pygments_lexer": "ipython3",
   "version": "3.9.13"
  },
  "orig_nbformat": 4
 },
 "nbformat": 4,
 "nbformat_minor": 2
}
