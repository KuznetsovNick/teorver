{
 "cells": [
  {
   "attachments": {},
   "cell_type": "markdown",
   "metadata": {},
   "source": [
    "### 1. В результате эксперимента получены данные приведенные в таблице 1"
   ]
  },
  {
   "cell_type": "code",
   "execution_count": 237,
   "metadata": {},
   "outputs": [],
   "source": [
    "from matplotlib import pyplot as plt\n",
    "import numpy as np\n",
    "\n",
    "alpha_1 = 0.01\n",
    "a = 0.00\n",
    "b = 1.19\n",
    "lambda_0 = 2.00\n",
    "lambda_1 = 0.50\n",
    "array = [0, 0, 1, 2, 0, 0, 0, 0, 0, 0,\n",
    "         0, 0, 1, 0, 0, 0, 0, 1, 0, 1,\n",
    "         0, 1, 1, 0, 1, 1, 0, 0, 0, 1,\n",
    "         0, 0, 3, 0, 0, 1, 1, 1, 0, 1,\n",
    "         0, 3, 0, 0, 0, 1, 0, 0, 1, 2]"
   ]
  },
  {
   "attachments": {},
   "cell_type": "markdown",
   "metadata": {},
   "source": [
    "#### a) Построить вариационный ряд. эмпирическую функцию распределения и гистограмму частот."
   ]
  },
  {
   "attachments": {},
   "cell_type": "markdown",
   "metadata": {},
   "source": [
    "Вариационный ряд"
   ]
  },
  {
   "cell_type": "code",
   "execution_count": 238,
   "metadata": {},
   "outputs": [
    {
     "name": "stdout",
     "output_type": "stream",
     "text": [
      "0, 0, 0, 0, 0, 0, 0, 0, 0, 0, 0, 0, 0, 0, 0, 0, 0, 0, 0, 0, 0, 0, 0, 0, 0, 0, 0, 0, 0, 0, 0, 1, 1, 1, 1, 1, 1, 1, 1, 1, 1, 1, 1, 1, 1, 1, 2, 2, 3, 3\n"
     ]
    }
   ],
   "source": [
    "array.sort()\n",
    "print(*array, sep=\", \")"
   ]
  },
  {
   "attachments": {},
   "cell_type": "markdown",
   "metadata": {},
   "source": [
    "Эмпирическая функция"
   ]
  },
  {
   "cell_type": "code",
   "execution_count": 239,
   "metadata": {},
   "outputs": [
    {
     "name": "stdout",
     "output_type": "stream",
     "text": [
      "0 -  0.62 (Количество 31)\n",
      "1 -  0.3 (Количество 15)\n",
      "2 -  0.04 (Количество 2)\n",
      "3 -  0.04 (Количество 2)\n"
     ]
    }
   ],
   "source": [
    "print(\"0 - \", array.count(0)/len(array), f\"(Количество {array.count(0)})\")\n",
    "print(\"1 - \", array.count(1)/len(array), f\"(Количество {array.count(1)})\")\n",
    "print(\"2 - \", array.count(2)/len(array), f\"(Количество {array.count(2)})\")\n",
    "print(\"3 - \", array.count(3)/len(array), f\"(Количество {array.count(3)})\")"
   ]
  },
  {
   "attachments": {},
   "cell_type": "markdown",
   "metadata": {},
   "source": [
    "\\begin{equation*}\n",
    "F_n(x)=\\frac{1}{n} \\sum_{i=1}^{n}(\\textbf{1}_{\\{ x_i < x\\}})=\n",
    "        \\begin{cases}\n",
    "                0 & x \\in (-\\infty, 0]\\\\\n",
    "                0.62 &  x \\in (0, 1]\\\\\n",
    "                0.92 &  x \\in (1, 2]\\\\\n",
    "                0.96 &  x \\in (2, 3]\\\\\n",
    "                1 &  x \\in (3, +\\infty)\n",
    "\t\\end{cases}\n",
    "\\end{equation*}"
   ]
  },
  {
   "attachments": {},
   "cell_type": "markdown",
   "metadata": {},
   "source": [
    "Гистрограмма частот\n",
    "Пусть длинна 4 и шаг равен 1, тогда получим следующие $I_i$\n",
    "$\\\\I_1 = [0, 1)\\\\\n",
    "I_2 = [1, 2)\\\\\n",
    "I_3 = [2, 3)\\\\\n",
    "I_4 = [3, 4]\\Rightarrow\\\\\n",
    "h = 1, n = 50\\\\\n",
    "H(I_i) = \\frac{\\# \\{ x_j: x_j \\in I_i\\}}{h\\cdot n}\\\\\n",
    "H(I_1) = \\frac{31}{50 \\cdot 1} = 0.62\\\\\n",
    "H(I_2) = \\frac{15}{50 \\cdot 1} = 0.3\\\\\n",
    "H(I_3) = \\frac{2}{50 \\cdot 1} = 0.04\\\\\n",
    "H(I_4) = \\frac{2}{50 \\cdot 1} = 0.04\\\\\n",
    "$"
   ]
  },
  {
   "cell_type": "code",
   "execution_count": 240,
   "metadata": {},
   "outputs": [
    {
     "data": {
      "image/png": "[encoded data removed]",
      "text/plain": [
       "<Figure size 640x480 with 1 Axes>"
      ]
     },
     "metadata": {},
     "output_type": "display_data"
    }
   ],
   "source": [
    "xdata = [i + 1/2 for i in range(4)]\n",
    "ydata = [0.62, 0.3, 0.04, 0.04]\n",
    "\n",
    "plt.bar(xdata, ydata, width=1, edgecolor='k')\n",
    "plt.show()"
   ]
  },
  {
   "attachments": {},
   "cell_type": "markdown",
   "metadata": {},
   "source": [
    "#### b) Вычислить выборочные аналоги следующих числовых характер истик: (i) математического ожидания, (ii) дисперсии, (iii) медианы, (iv) асимметрии, (v) эксцесса, (vi) вероятности Pr($X \\in [a, b]$)."
   ]
  },
  {
   "attachments": {},
   "cell_type": "markdown",
   "metadata": {},
   "source": [
    "Вычислим выборочный аналог мат. ожидания"
   ]
  },
  {
   "cell_type": "code",
   "execution_count": 241,
   "metadata": {},
   "outputs": [
    {
     "name": "stdout",
     "output_type": "stream",
     "text": [
      "average = 0.5\n"
     ]
    }
   ],
   "source": [
    "sum = 0\n",
    "\n",
    "for i in array:\n",
    "    sum += i\n",
    "\n",
    "average_x = sum/len(array)\n",
    "print(\"average =\", average_x)"
   ]
  },
  {
   "attachments": {},
   "cell_type": "markdown",
   "metadata": {},
   "source": [
    "$\\bar x = \\frac{1}{n} \\sum_{i=1}^{n}(x_i)=0.5$"
   ]
  },
  {
   "attachments": {},
   "cell_type": "markdown",
   "metadata": {},
   "source": [
    "Вычислим выборочный аналог дисперисии"
   ]
  },
  {
   "cell_type": "code",
   "execution_count": 242,
   "metadata": {},
   "outputs": [
    {
     "name": "stdout",
     "output_type": "stream",
     "text": [
      "S^2 = 0.57\n"
     ]
    }
   ],
   "source": [
    "sum = 0\n",
    "\n",
    "for i in array:\n",
    "    sum += (i - average_x)**2\n",
    "\n",
    "dispersion = sum/len(array)\n",
    "\n",
    "print(\"S^2 =\", sum/len(array))"
   ]
  },
  {
   "attachments": {},
   "cell_type": "markdown",
   "metadata": {},
   "source": [
    "$S^2 = \\frac{1}{n} \\sum_{i=1}^{n}( (x_i - \\bar x)^2 )=0.57$"
   ]
  },
  {
   "attachments": {},
   "cell_type": "markdown",
   "metadata": {},
   "source": [
    "Вычислим медиану\n",
    "\n",
    "так как размер выборки четный, то медианой будет среднее значение двух центральных элементов в отсортированном ряде\n",
    "\n",
    "$M_x = \\cfrac{0 + 0}{2} = 0$"
   ]
  },
  {
   "attachments": {},
   "cell_type": "markdown",
   "metadata": {},
   "source": [
    "Коэффициент асимметрии\n",
    "\n",
    "$\\Alpha = \\frac{\\mu_3}{(S^2)^3}\\\\\n",
    "\\mu = \\frac{1}{n} \\sum_{i=1}^{n}( (x_i - \\bar x)^3 )\n",
    "$\n"
   ]
  },
  {
   "cell_type": "code",
   "execution_count": 243,
   "metadata": {},
   "outputs": [],
   "source": [
    "def make_mu(t):\n",
    "    mu = 0\n",
    "\n",
    "    for i in array:\n",
    "        mu += (i - average_x)**t\n",
    "\n",
    "    mu /= len(array)\n",
    "\n",
    "    return mu"
   ]
  },
  {
   "cell_type": "code",
   "execution_count": 244,
   "metadata": {},
   "outputs": [
    {
     "name": "stdout",
     "output_type": "stream",
     "text": [
      "A = 1.6731\n"
     ]
    }
   ],
   "source": [
    "A = make_mu(3)/(dispersion**(3/2))\n",
    "\n",
    "print(\"A =\", round(A, 4))"
   ]
  },
  {
   "attachments": {},
   "cell_type": "markdown",
   "metadata": {},
   "source": [
    "Коэффициент эксцесса\n",
    "$\n",
    "\\varepsilon = \\frac{\\mu_4}{(S)^4} - 3\\\\\n",
    "$"
   ]
  },
  {
   "cell_type": "code",
   "execution_count": 245,
   "metadata": {},
   "outputs": [
    {
     "name": "stdout",
     "output_type": "stream",
     "text": [
      "Eps = 2.6094\n"
     ]
    }
   ],
   "source": [
    "eps = make_mu(4)/(dispersion**(4/2)) - 3\n",
    "\n",
    "print(\"Eps =\", round(eps, 4))"
   ]
  },
  {
   "attachments": {},
   "cell_type": "markdown",
   "metadata": {},
   "source": [
    "Найдем вероятность $Pr(x \\in [a, b])$\n",
    "\n",
    "$Pr(x \\in [0, 1.19])=F(1.19)-F(0)=\\frac{31+15}{50}=0.92$\n"
   ]
  },
  {
   "attachments": {},
   "cell_type": "markdown",
   "metadata": {},
   "source": [
    "#### c) В предположении, что исходные наблюдения являются выборкой из распределения Пуассона, построить оценку максимального правдоподобия параметра $\\lambda$, а также оценку $\\lambda$ по методу моментов.\n",
    "\n",
    "Функция максимального правдоподобия\n",
    "$L(\\vec{x}, \\theta)=\\prod_{i=1}^{n}f(x_i, \\theta)$\n",
    "\n",
    "Так как функция распределения Пуассона дискретная, то $f(x_i, \\theta) = P(x=x_i) = f(x_i, \\lambda) = \\frac{\\lambda^{x_i}}{x_i !}e^{-\\lambda}$\n",
    "\n",
    "$L(\\vec{x}, \\lambda)=\\prod_{i=1}^{n}\\frac{\\lambda^{x_i}}{x_i !}e^{-\\lambda}$\n",
    "\n",
    "Прологарифмируем функцию\n",
    "\n",
    "$LL(\\vec{x}, \\lambda)=\\sum_{i=1}^{n}\\ln(\\frac{\\lambda^{x_i}}{x_i !}e^{-\\lambda})=\\ln(\\lambda) \\cdot \\sum_{i=1}^{n}x_i - \\sum_{i=1}^{n}\\ln(x_i!) - n\\lambda$\n",
    "\n",
    "Найдем точку масимума \n",
    "\n",
    "$\\frac{dLL}{d\\lambda} = \\cfrac{\\sum_{i=1}^{n}x_i}{\\lambda}-n\\\\\n",
    "\\cfrac{d^2LL}{d\\lambda^2}=-\\lambda^{-2}\\sum_{i=1}^{n}x_i < 0 \\Rightarrow \\widehat \\lambda=\\bar x = 0.5$\n",
    "\n",
    "Найдем оценку $\\lambda$ по методу моменту моментов\n",
    "\n",
    "$Ex_1 = \\sum_{k=0}^\\infty k \\cdot \\frac{\\lambda^{x_i}}{x_i !}e^{-\\lambda}= \\lambda\\\\\n",
    "\\widehat{\\lambda} = \\bar x = 0.5$"
   ]
  },
  {
   "attachments": {},
   "cell_type": "markdown",
   "metadata": {},
   "source": [
    "#### d) Построить асимптотический доверительный интервал уровня значимости $\\alpha_1$ для параметра $\\lambda$ на базе оценки максимального правдоподобия.\n",
    "\n",
    "Найдем функцию $G(x, \\lambda)$ - генератор доверительного интервала. $Ex_1=\\bar x, \\Rightarrow$\n",
    "\n",
    "$\\sqrt{n} \\cdot \\frac{\\bar x - \\lambda}{\\sqrt{\\lambda}}\\sim N(0, 1)$, так как $\\widehat \\lambda=\\bar x \\Rightarrow$\n",
    "\n",
    "$\\sqrt{n} \\cdot \\frac{\\bar x - \\lambda}{\\sqrt{\\bar x}}$\n",
    "\n",
    "$P_\\theta(x_{1\\alpha_1} \\le \\sqrt{n} \\cdot \\frac{\\bar x - \\lambda}{\\sqrt{\\bar x}} \\le x_{2\\alpha_1}) \\rightarrow 1 - \\alpha_1$\n",
    "\n",
    "Найдем $x_{1\\alpha_1}$ и $x_{2\\alpha_1}$\n",
    "\n",
    "$\\Phi(x_{\\alpha_1}) = 1-\\cfrac{\\alpha_1}{2} = 1-\\cfrac{0.01}{2} = 0.995$, по таблице значений функции Лапласаа $x_{\\alpha_1}=2.81 \\Rightarrow$\n",
    "\n",
    "$P_\\theta(-2.81 \\le \\sqrt{n} \\cdot \\frac{\\bar x - \\lambda}{\\sqrt{\\bar x}} \\le 2.81)$, тогда получим интервал\n",
    "\n",
    "$-\\lambda \\in [-2,81\\frac{\\sqrt{\\bar x}}{\\sqrt{n}}-\\bar x; \\; 2,81\\frac{\\sqrt{\\bar x}}{\\sqrt{n}}-\\bar x]$\n",
    "\n",
    "$\\lambda \\in [\\bar x-2,81\\frac{\\sqrt{\\bar x}}{\\sqrt{n}}; \\; \\bar x + 2,81\\frac{\\sqrt{\\bar x}}{\\sqrt{n}}]$\n",
    "\n",
    "$[0.5-2,81\\frac{\\sqrt{0.5}}{\\sqrt{50}}; \\; 0.5 + 2,81\\frac{\\sqrt{0.5}}{\\sqrt{50}}]$\n",
    "\n",
    "$[0.219; \\; 0.781]$\n"
   ]
  }
 ],
 "metadata": {
  "kernelspec": {
   "display_name": "Python 3",
   "language": "python",
   "name": "python3"
  },
  "language_info": {
   "codemirror_mode": {
    "name": "ipython",
    "version": 3
   },
   "file_extension": ".py",
   "mimetype": "text/x-python",
   "name": "python",
   "nbconvert_exporter": "python",
   "pygments_lexer": "ipython3",
   "version": "3.9.13"
  },
  "orig_nbformat": 4
 },
 "nbformat": 4,
 "nbformat_minor": 2
}
